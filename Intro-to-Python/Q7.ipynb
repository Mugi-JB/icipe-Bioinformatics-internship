{
 "cells": [
  {
   "cell_type": "code",
   "execution_count": 2,
   "id": "151b21f2-3723-4a1f-adce-f120845b1a79",
   "metadata": {},
   "outputs": [
    {
     "data": {
      "text/plain": [
       "('../Intro-to-Python/humchrx.txt', <http.client.HTTPMessage at 0x7f66583a6be0>)"
      ]
     },
     "execution_count": 2,
     "metadata": {},
     "output_type": "execute_result"
    }
   ],
   "source": [
    "import urllib.request\n",
    "\n",
    "url = \"https://www.uniprot.org/docs/humchrx.txt\"\n",
    "destination_filename = \"../Intro-to-Python/humchrx.txt\"\n",
    "urllib.request.urlretrieve(url, destination_filename)"
   ]
  },
  {
   "cell_type": "code",
   "execution_count": 2,
   "id": "41fe8a95-ed0d-4f9b-a521-1dfca51e732d",
   "metadata": {},
   "outputs": [],
   "source": [
    "def get_genes(infile,outfile):\n",
    "    \"\"\"\n",
    "    Function to extract a list of genes and write to file\n",
    "    \"\"\"\n",
    "    gene_list = []\n",
    "    counter=0\n",
    "    with open(infile) as  gene:\n",
    "        Joy = False\n",
    "        \n",
    "        for line in gene:\n",
    "            if line.startswith('name'):\n",
    "                Joy = True\n",
    "                pass\n",
    "            if Joy:\n",
    "                items = line.split()\n",
    "                \n",
    "                if len(items) > 0:\n",
    "                    gene_list.append(items[0])\n",
    "            \n",
    "                    \n",
    "    gene_list = gene_list[2:-7]\n",
    "    with open(outfile, 'w') as outfile:\n",
    "        for i in gene_list:\n",
    "            outfile.write(i+'\\n')"
   ]
  },
  {
   "cell_type": "code",
   "execution_count": 3,
   "id": "179d46c6-2bef-4eb2-8378-4b6f23be66ce",
   "metadata": {},
   "outputs": [
    {
     "data": {
      "text/plain": [
       "\u001b[0;31mSignature:\u001b[0m \u001b[0mget_genes\u001b[0m\u001b[0;34m(\u001b[0m\u001b[0minfile\u001b[0m\u001b[0;34m,\u001b[0m \u001b[0moutfile\u001b[0m\u001b[0;34m)\u001b[0m\u001b[0;34m\u001b[0m\u001b[0;34m\u001b[0m\u001b[0m\n",
       "\u001b[0;31mDocstring:\u001b[0m Function to extract a list of genes and write to file\n",
       "\u001b[0;31mFile:\u001b[0m      /tmp/ipykernel_11796/4121230700.py\n",
       "\u001b[0;31mType:\u001b[0m      function\n"
      ]
     },
     "metadata": {},
     "output_type": "display_data"
    }
   ],
   "source": [
    "?get_genes"
   ]
  },
  {
   "cell_type": "code",
   "execution_count": 47,
   "id": "c223db1d-f6c8-4c1a-afaf-0bc2f7a8a2ca",
   "metadata": {},
   "outputs": [],
   "source": [
    "nelly=[1,2,3]\n",
    "nelly=[12,3]"
   ]
  },
  {
   "cell_type": "code",
   "execution_count": 48,
   "id": "2a2b7ba5-54be-4f30-aecd-e0ebd070a380",
   "metadata": {},
   "outputs": [
    {
     "data": {
      "text/plain": [
       "[12, 3]"
      ]
     },
     "execution_count": 48,
     "metadata": {},
     "output_type": "execute_result"
    }
   ],
   "source": [
    "nelly"
   ]
  },
  {
   "cell_type": "code",
   "execution_count": 58,
   "id": "b24d1cff-9622-4842-bfd1-b149bd0a8a3d",
   "metadata": {},
   "outputs": [
    {
     "name": "stdout",
     "output_type": "stream",
     "text": [
      "Object ` flag` not found.\n"
     ]
    }
   ],
   "source": [
    "? flag"
   ]
  },
  {
   "cell_type": "code",
   "execution_count": 57,
   "id": "aa875e04-a8a2-429a-ae7e-7bd20e7c7611",
   "metadata": {},
   "outputs": [],
   "source": [
    "get_genes(\"../Intro-to-Python/humchrx.txt\",\"../Intro-to-Python/gene1_names.txt\")"
   ]
  },
  {
   "cell_type": "code",
   "execution_count": 14,
   "id": "66a72784-9a2b-4fcc-9649-fbcc66fe664c",
   "metadata": {},
   "outputs": [],
   "source": [
    "gen_list=[]\n",
    "samp=\"name,p53 homo sapiens\"\n",
    "item=samp.split()\n",
    "if len(item) > 0:\n",
    "    gen_list.append(item[0])"
   ]
  },
  {
   "cell_type": "code",
   "execution_count": 61,
   "id": "66615ae2-79eb-405a-abe4-78ef151aacc3",
   "metadata": {},
   "outputs": [
    {
     "name": "stdout",
     "output_type": "stream",
     "text": [
      "['name,p53']\n"
     ]
    }
   ],
   "source": [
    "print(gen_list)\n",
    "lol=[]"
   ]
  },
  {
   "cell_type": "code",
   "execution_count": 63,
   "id": "e45baa1f-54d9-4b5c-b47f-0cf1f588e711",
   "metadata": {},
   "outputs": [
    {
     "data": {
      "text/plain": [
       "4"
      ]
     },
     "execution_count": 63,
     "metadata": {},
     "output_type": "execute_result"
    }
   ],
   "source": [
    "lol\n",
    "2+2"
   ]
  },
  {
   "cell_type": "code",
   "execution_count": 148,
   "id": "bb41665f-0bd5-4513-9aae-d726780d378b",
   "metadata": {},
   "outputs": [],
   "source": [
    "def dna_verify(seq):\n",
    "    for i in seq:\n",
    "        if i == 'A' or i == 'T' or i == 'G' or i == 'C':\n",
    "            continue\n",
    "\n",
    "        else:\n",
    "            return False\n",
    "            \n",
    "\n",
    "            \n",
    "def PercentageGC(dna):\n",
    "    dna=dna.upper()\n",
    "    \n",
    "    if dna_verify(dna)==False:\n",
    "            print(\"Invalid Sequence!\")\n",
    "    else:\n",
    "        BP=len(dna)\n",
    "        GC=dna.count(\"C\")+dna.count(\"G\")\n",
    "        PGC=GC/BP*100\n",
    "        print(PGC)"
   ]
  },
  {
   "cell_type": "code",
   "execution_count": 149,
   "id": "9ee97394-f939-4d99-aa2e-5f36055b5046",
   "metadata": {},
   "outputs": [
    {
     "name": "stdout",
     "output_type": "stream",
     "text": [
      "True counter 1\n",
      "False Counter 2\n",
      "Invalid Sequence!\n"
     ]
    }
   ],
   "source": [
    "PercentageGC(\"AYTPGC\")"
   ]
  },
  {
   "cell_type": "code",
   "execution_count": 168,
   "id": "ec2b2b11-ad53-49ae-a6d1-fcf6d0e164c0",
   "metadata": {},
   "outputs": [],
   "source": [
    "def nike(a):\n",
    "    print(a*a)\n",
    "    return a*a"
   ]
  },
  {
   "cell_type": "code",
   "execution_count": 169,
   "id": "74b94104-5144-4f9c-abdc-689c4c35f244",
   "metadata": {},
   "outputs": [
    {
     "name": "stdout",
     "output_type": "stream",
     "text": [
      "25\n"
     ]
    }
   ],
   "source": [
    "kim=nike(5)"
   ]
  },
  {
   "cell_type": "code",
   "execution_count": 170,
   "id": "3eed5371-bcc9-4751-9fe3-80b1f745866f",
   "metadata": {},
   "outputs": [
    {
     "data": {
      "text/plain": [
       "int"
      ]
     },
     "execution_count": 170,
     "metadata": {},
     "output_type": "execute_result"
    }
   ],
   "source": [
    "type(kim)"
   ]
  },
  {
   "cell_type": "code",
   "execution_count": null,
   "id": "ebd2dff5-cb82-47e4-a8b3-6971a0d14a3a",
   "metadata": {},
   "outputs": [],
   "source": []
  }
 ],
 "metadata": {
  "kernelspec": {
   "display_name": "Python 3 (ipykernel)",
   "language": "python",
   "name": "python3"
  },
  "language_info": {
   "codemirror_mode": {
    "name": "ipython",
    "version": 3
   },
   "file_extension": ".py",
   "mimetype": "text/x-python",
   "name": "python",
   "nbconvert_exporter": "python",
   "pygments_lexer": "ipython3",
   "version": "3.9.7"
  }
 },
 "nbformat": 4,
 "nbformat_minor": 5
}
