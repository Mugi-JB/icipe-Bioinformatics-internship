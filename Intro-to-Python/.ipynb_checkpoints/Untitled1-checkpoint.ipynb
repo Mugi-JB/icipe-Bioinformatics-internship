{
 "cells": [
  {
   "cell_type": "markdown",
   "id": "a02b9355-d2a5-4b53-a76d-555bdce68618",
   "metadata": {},
   "source": [
    "### Functions"
   ]
  },
  {
   "cell_type": "code",
   "execution_count": 8,
   "id": "f3dfcdde-00b9-49f7-8297-0bc679d11506",
   "metadata": {},
   "outputs": [],
   "source": [
    "def multiples_of_5(x):\n",
    "    '''returns the result of % multiplied by the arguments.\\nonly args of type int or float'''\n",
    "    return(x*5)"
   ]
  },
  {
   "cell_type": "code",
   "execution_count": 2,
   "id": "3693f88b-e2a6-46d9-b6b3-313dfa7458cc",
   "metadata": {},
   "outputs": [
    {
     "data": {
      "text/plain": [
       "30"
      ]
     },
     "execution_count": 2,
     "metadata": {},
     "output_type": "execute_result"
    }
   ],
   "source": [
    "multiples_of_5(6)"
   ]
  },
  {
   "cell_type": "code",
   "execution_count": 3,
   "id": "7784e783-8088-47ad-93a6-91da2369bf7e",
   "metadata": {},
   "outputs": [
    {
     "data": {
      "text/plain": [
       "\u001b[0;31mDocstring:\u001b[0m\n",
       "print(value, ..., sep=' ', end='\\n', file=sys.stdout, flush=False)\n",
       "\n",
       "Prints the values to a stream, or to sys.stdout by default.\n",
       "Optional keyword arguments:\n",
       "file:  a file-like object (stream); defaults to the current sys.stdout.\n",
       "sep:   string inserted between values, default a space.\n",
       "end:   string appended after the last value, default a newline.\n",
       "flush: whether to forcibly flush the stream.\n",
       "\u001b[0;31mType:\u001b[0m      builtin_function_or_method\n"
      ]
     },
     "metadata": {},
     "output_type": "display_data"
    }
   ],
   "source": [
    "? print"
   ]
  },
  {
   "cell_type": "code",
   "execution_count": 9,
   "id": "89fed258-d76f-4fa4-8844-1c0f87b2203c",
   "metadata": {},
   "outputs": [
    {
     "data": {
      "text/plain": [
       "\u001b[0;31mSignature:\u001b[0m  \u001b[0mmultiples_of_5\u001b[0m\u001b[0;34m(\u001b[0m\u001b[0mx\u001b[0m\u001b[0;34m)\u001b[0m\u001b[0;34m\u001b[0m\u001b[0;34m\u001b[0m\u001b[0m\n",
       "\u001b[0;31mDocstring:\u001b[0m\n",
       "returns the result of % multiplied by the arguments.\n",
       "only args of type int or float\n",
       "\u001b[0;31mFile:\u001b[0m      /tmp/ipykernel_3067/2551221514.py\n",
       "\u001b[0;31mType:\u001b[0m      function\n"
      ]
     },
     "metadata": {},
     "output_type": "display_data"
    }
   ],
   "source": [
    "? multiples_of_5"
   ]
  },
  {
   "cell_type": "code",
   "execution_count": 141,
   "id": "854793fc-4888-4556-b646-8f8f126eda3b",
   "metadata": {},
   "outputs": [],
   "source": [
    "fruitStore = [\"oranges\",\"bananas\",\"avocados\",\"mangoes\",\"watermelons\"]\n",
    "\n",
    "def fruitEnquiry():\n",
    "    customerFruit=input(\"Please enter a list of your preferred fruit(s) separated by a comma(,)\").split(\", \")\n",
    "    customerFruit\n",
    "    \n",
    "\n",
    "    \n",
    "    def fruitFinder(fruitCatalogue,fruitQuery):\n",
    "        fruitAvailable=[]\n",
    "        fruitNotAvailable=[]\n",
    "        for i in fruitQuery:\n",
    "            if i.lower() in fruitCatalogue:\n",
    "                fruitAvailable.append(i.capitalize())\n",
    "            else:\n",
    "                fruitNotAvailable.append(i.capitalize())\n",
    "        if len(fruitAvailable) >= 2 :\n",
    "            fruitAvailable.insert(-1, \"and\")\n",
    "        if len(fruitNotAvailable) >= 2 :\n",
    "            fruitNotAvailable.insert(-1, \"and\")\n",
    "        return {'available':fruitAvailable , 'unavailable':fruitNotAvailable}\n",
    "\n",
    "    fruitResponse = fruitFinder(fruitStore,customerFruit)\n",
    "   \n",
    "    if fruitResponse['unavailable'] and fruitResponse['available']:\n",
    "        print(\"\\n\\nYour preferred fruits that are available are: %s.\\n\\n%s not available\" %(\" \".join(fruitResponse[\"available\"]), \" \".join(fruitResponse[\"unavailable\"])))\n",
    "        \n",
    "    elif not(fruitResponse['available']) :\n",
    "        print(\"\\n\\nNone of your preferred fruits are available: %s.\" %\" \".join(fruitResponse[\"unavailable\"]))\n",
    "        \n",
    "    elif not(fruitResponse['unavailable']) and fruitResponse['available']:\n",
    "        print(\"\\n\\nAll your preferred fruits are available: %s.\" %\" \".join(fruitResponse[\"available\"]))        \n",
    "    \n"
   ]
  },
  {
   "cell_type": "code",
   "execution_count": 142,
   "id": "fe2043a5-fb31-4281-ac9d-4022966ba24e",
   "metadata": {},
   "outputs": [
    {
     "name": "stdin",
     "output_type": "stream",
     "text": [
      "Please enter a list of your preferred fruit(s) separated by a comma(,) apples\n"
     ]
    },
    {
     "name": "stdout",
     "output_type": "stream",
     "text": [
      "\n",
      "\n",
      "None of your preferred fruits are available: Apples.\n"
     ]
    }
   ],
   "source": [
    "fruitEnquiry()"
   ]
  },
  {
   "cell_type": "code",
   "execution_count": null,
   "id": "b169ef83-4f71-4480-ae17-18ef7a0d848d",
   "metadata": {},
   "outputs": [],
   "source": [
    "newFruits\n"
   ]
  },
  {
   "cell_type": "code",
   "execution_count": null,
   "id": "e0a8f3b4-59e5-4124-8edd-e137f283b6ca",
   "metadata": {},
   "outputs": [],
   "source": [
    "stri=\"\"\n",
    "type(stri)"
   ]
  },
  {
   "cell_type": "code",
   "execution_count": null,
   "id": "1159c675-8030-4eb0-a59f-3d597126a819",
   "metadata": {},
   "outputs": [],
   "source": [
    "\n",
    "\n",
    "\n",
    "\n"
   ]
  }
 ],
 "metadata": {
  "kernelspec": {
   "display_name": "Python 3 (ipykernel)",
   "language": "python",
   "name": "python3"
  },
  "language_info": {
   "codemirror_mode": {
    "name": "ipython",
    "version": 3
   },
   "file_extension": ".py",
   "mimetype": "text/x-python",
   "name": "python",
   "nbconvert_exporter": "python",
   "pygments_lexer": "ipython3",
   "version": "3.9.7"
  }
 },
 "nbformat": 4,
 "nbformat_minor": 5
}
