{
 "cells": [
  {
   "cell_type": "markdown",
   "id": "959eacee-f7c2-468b-aa84-c3aa7a8c1faa",
   "metadata": {},
   "source": [
    "# List Comprehension"
   ]
  },
  {
   "cell_type": "code",
   "execution_count": 2,
   "id": "2533efcd-c03f-48b3-920d-b65297f156b6",
   "metadata": {},
   "outputs": [],
   "source": [
    "newList=[1,2,3,4,5,6,7,8,9]\n",
    "secondList=[]\n",
    "for i in newList:\n",
    "    secondList.append(i)"
   ]
  },
  {
   "cell_type": "code",
   "execution_count": 11,
   "id": "fb6bd464-8de9-4d1c-b7a9-1dd31bbcabe1",
   "metadata": {},
   "outputs": [],
   "source": [
    "thirdList=[ 3 for i in newList]"
   ]
  },
  {
   "cell_type": "code",
   "execution_count": 12,
   "id": "87b3a8b4-2273-4fb1-9006-d83fda810f63",
   "metadata": {},
   "outputs": [
    {
     "data": {
      "text/plain": [
       "[3, 6, 9, 12, 15, 18, 21, 24, 27]"
      ]
     },
     "execution_count": 12,
     "metadata": {},
     "output_type": "execute_result"
    }
   ],
   "source": [
    "thirdList"
   ]
  },
  {
   "cell_type": "code",
   "execution_count": 6,
   "id": "57fad0f3-15fb-47ef-80d3-b656192879ea",
   "metadata": {},
   "outputs": [],
   "source": [
    "multipliedList=[]\n",
    "for i in newList:\n",
    "    multipliedList.append(i*3)"
   ]
  },
  {
   "cell_type": "code",
   "execution_count": 7,
   "id": "8bc15453-7b4f-4e96-a3b3-051446678d0a",
   "metadata": {
    "tags": []
   },
   "outputs": [
    {
     "data": {
      "text/plain": [
       "[3, 6, 9, 12, 15, 18, 21, 24, 27]"
      ]
     },
     "execution_count": 7,
     "metadata": {},
     "output_type": "execute_result"
    }
   ],
   "source": [
    "multipliedList"
   ]
  },
  {
   "cell_type": "code",
   "execution_count": 14,
   "id": "2cfaaf3b-da88-4d9b-ba09-719a569ca2cf",
   "metadata": {},
   "outputs": [],
   "source": [
    "multi2ndList = [ i**2 for i in multipliedList ]"
   ]
  },
  {
   "cell_type": "code",
   "execution_count": 15,
   "id": "be7eda01-9e68-4da2-93da-fa3499383ba1",
   "metadata": {},
   "outputs": [
    {
     "data": {
      "text/plain": [
       "[9, 36, 81, 144, 225, 324, 441, 576, 729]"
      ]
     },
     "execution_count": 15,
     "metadata": {},
     "output_type": "execute_result"
    }
   ],
   "source": [
    "multi2ndList"
   ]
  },
  {
   "cell_type": "code",
   "execution_count": 16,
   "id": "1bef76e5-c8b2-4879-928a-fccb8e71a22d",
   "metadata": {},
   "outputs": [],
   "source": [
    "evens=[]\n",
    "odds=[]\n",
    "for i in multi2ndList:\n",
    "    if i%2 == 0:\n",
    "        evens.append(i)\n",
    "    else:\n",
    "        odds.append(i)"
   ]
  },
  {
   "cell_type": "code",
   "execution_count": 18,
   "id": "a99696c6-16db-4e49-a583-d2bca6a54204",
   "metadata": {},
   "outputs": [
    {
     "name": "stdout",
     "output_type": "stream",
     "text": [
      "Even List:  [36, 144, 324, 576] \n",
      " Odd List:  [9, 81, 225, 441, 729]\n"
     ]
    }
   ],
   "source": [
    "print(\"Even List: \",evens, \"\\n\",\"Odd List: \", odds)"
   ]
  },
  {
   "cell_type": "code",
   "execution_count": 20,
   "id": "1dceebf6-85aa-4e51-8263-37a654fda25a",
   "metadata": {},
   "outputs": [],
   "source": [
    "even=[i for i in multi2ndList if i%2 == 0]"
   ]
  },
  {
   "cell_type": "code",
   "execution_count": 21,
   "id": "48962e7d-7728-41d7-97f5-4bed3aefc826",
   "metadata": {},
   "outputs": [
    {
     "data": {
      "text/plain": [
       "[36, 144, 324, 576]"
      ]
     },
     "execution_count": 21,
     "metadata": {},
     "output_type": "execute_result"
    }
   ],
   "source": [
    "even"
   ]
  },
  {
   "cell_type": "code",
   "execution_count": null,
   "id": "d3e55ac0-07b0-40e5-9e1c-940c04dc64fd",
   "metadata": {},
   "outputs": [],
   "source": []
  }
 ],
 "metadata": {
  "kernelspec": {
   "display_name": "Python 3 (ipykernel)",
   "language": "python",
   "name": "python3"
  },
  "language_info": {
   "codemirror_mode": {
    "name": "ipython",
    "version": 3
   },
   "file_extension": ".py",
   "mimetype": "text/x-python",
   "name": "python",
   "nbconvert_exporter": "python",
   "pygments_lexer": "ipython3",
   "version": "3.9.7"
  }
 },
 "nbformat": 4,
 "nbformat_minor": 5
}
