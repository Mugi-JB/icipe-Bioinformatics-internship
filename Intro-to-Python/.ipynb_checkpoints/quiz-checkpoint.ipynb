{
 "cells": [
  {
   "cell_type": "code",
   "execution_count": 63,
   "id": "94141b19-72b1-4b5d-807e-3d637f51ecfe",
   "metadata": {},
   "outputs": [
    {
     "name": "stdout",
     "output_type": "stream",
     "text": [
      "2016, 2051, 2086, 2121, 2156, 2191, 2226, 2261, 2296, 2331, 2366, 2401, 2436, 2471, 2506, 2541, 2576, 2611, 2646, 2681, 2716, 2751, 2786, 2821, 2856, 2891, 2926, 2961, 2996, 3031, 3066, 3101, 3136, 3171\n"
     ]
    }
   ],
   "source": [
    "#Question 1\n",
    "def multi_seven():\n",
    "    '''finds all numbers that are divisible by 7 but are not a multiple of 5, between 2000 and 3200 (both included) and prints them in a comma-separated sequence on a single line.'''\n",
    "    div_seven=[]\n",
    "    \n",
    "    # Finds all numbers between 2000 and 3200 both included\n",
    "    # Filters all multiples of seven that aren't multiples of 5\n",
    "    #converts the value from int to string and adds it to a list\n",
    "    for i in range(2000,3201):\n",
    "        if i%7==0 and i%5==1:\n",
    "            div_seven.append(str(i))\n",
    "            \n",
    "    #converts the list obtained from the loop into a string\n",
    "    #prints in a comma-separated sequence on a single line.\n",
    "    stringzy=\", \".join(div_seven)\n",
    "    print(stringzy) "
   ]
  },
  {
   "cell_type": "code",
   "execution_count": null,
   "id": "8bd0e5ba-37fe-46b3-964e-bb473671e597",
   "metadata": {},
   "outputs": [],
   "source": []
  },
  {
   "cell_type": "code",
   "execution_count": 62,
   "id": "97de33be-3439-4d15-8627-6b669a9cce37",
   "metadata": {},
   "outputs": [
    {
     "name": "stdin",
     "output_type": "stream",
     "text": [
      "Enter a number to find it's factorial:  4\n"
     ]
    },
    {
     "name": "stdout",
     "output_type": "stream",
     "text": [
      "24\n"
     ]
    }
   ],
   "source": [
    "#Question 2\n",
    "def fact():\n",
    "    \n",
    "    #prompts the user to enter a number and converts the input into an integer\n",
    "    user_input=int(input(\"Enter a number to find it's factorial: \"))\n",
    "    \n",
    "    #Initialize a function to calculate the factorial of the entered number\n",
    "    #returns 1 if the number is zero or once since their factorial is equal to one\n",
    "    #else calaulates the factorial of the number if the number is greater then one\n",
    "    def facto(num):\n",
    "        if num == 0 or num == 1:\n",
    "            return 1\n",
    "        else:\n",
    "            return num*facto(num-1)\n",
    "        \n",
    "    #stores the factorial in result variable\n",
    "    result = facto(user_input)\n",
    "    print(result)"
   ]
  },
  {
   "cell_type": "code",
   "execution_count": 61,
   "id": "ee569f6a-d767-48b6-935b-c151bf2467d2",
   "metadata": {},
   "outputs": [
    {
     "name": "stdin",
     "output_type": "stream",
     "text": [
      "Please enter a number 8\n"
     ]
    },
    {
     "name": "stdout",
     "output_type": "stream",
     "text": [
      "{1: 1, 2: 4, 3: 9, 4: 16, 5: 25, 6: 36, 7: 49, 8: 64}\n"
     ]
    }
   ],
   "source": [
    "# Question 3\n",
    "def integral_dict(): #Initialize the function\n",
    "    \n",
    "    #Prompt the user to enter a number and converts the input into an integer\n",
    "    user_input = int(input(\"Please enter a number\")) \n",
    "    \n",
    "    #Instantiate a dictionary\n",
    "    int_dict=dict() \n",
    "    \n",
    "    #iterate over the numbers between 1 and the given input, both included\n",
    "    #creates a dictionary with the number as the key and the square of the number as the value\n",
    "    for i in range(1, user_input+1):\n",
    "        int_dict[i]=i*i\n",
    "    \n",
    "    #prints the dictionary\n",
    "    print(int_dict) "
   ]
  },
  {
   "cell_type": "code",
   "execution_count": 64,
   "id": "57ba88c7-a5f4-4d22-94e6-5acb602e22c7",
   "metadata": {},
   "outputs": [
    {
     "name": "stdin",
     "output_type": "stream",
     "text": [
      "Enter a sequence of comma separated numbers 8,9,9\n"
     ]
    },
    {
     "name": "stdout",
     "output_type": "stream",
     "text": [
      "['8', '9', '9'] ('8', '9', '9')\n"
     ]
    }
   ],
   "source": [
    "# Question 4\n",
    "def list_tuple():\n",
    "    #Prompt the user to enter a sequence of comma separated numbers and converts the input into a ist\n",
    "    user_input=input(\"Enter a sequence of comma separated numbers\").split(\",\")\n",
    "    \n",
    "    #converts the list into a tuple\n",
    "    tups=tuple(user_input)\n",
    "    \n",
    "    #prints the user input both as a list and tuple\n",
    "    print(user_input,tups)"
   ]
  },
  {
   "cell_type": "code",
   "execution_count": 68,
   "id": "6f148fc5-1a72-472c-8b3d-0be6961b91d1",
   "metadata": {},
   "outputs": [
    {
     "name": "stdin",
     "output_type": "stream",
     "text": [
      "Enter a statement of your choice hyi\n"
     ]
    },
    {
     "name": "stdout",
     "output_type": "stream",
     "text": [
      "HYI\n"
     ]
    }
   ],
   "source": [
    "# Question 5\n",
    "#creates a class Q5\n",
    "class Q5:\n",
    "    def __init__(self):\n",
    "        self.user_input=\"A statement is needed\"\n",
    "        \n",
    "    #initializes a method getString that prompts the user to enter a statement of their choice\n",
    "    def getString(self):\n",
    "        self.user_input=input('Enter a statement of your choice')\n",
    "    \n",
    "    #initializes a method printString that converts the user_input into uppercase\n",
    "    def printString(self):\n",
    "        print(self.user_input.upper())\n",
    "        \n",
    "#Initializes a function in which a class object is instantiated\n",
    "#the two methods in the object created are called\n",
    "def funky():\n",
    "    gig=Q5()\n",
    "    gig.getString()\n",
    "    gig.printString()"
   ]
  },
  {
   "cell_type": "code",
   "execution_count": 69,
   "id": "bba30f19-bf75-46aa-90ff-76511d5bff01",
   "metadata": {},
   "outputs": [
    {
     "name": "stdin",
     "output_type": "stream",
     "text": [
      "Please enter a sequence of comma separated numbers 5,8,9\n"
     ]
    },
    {
     "name": "stdout",
     "output_type": "stream",
     "text": [
      "4, 5, 5, "
     ]
    }
   ],
   "source": [
    "#Question 6\n",
    "def Q6():\n",
    "    H=30\n",
    "    C=50\n",
    "    \n",
    "    #prompts the user to enter a sequence of comma separated numbers and converts the input into a list\n",
    "    user_input=input(\"Please enter a sequence of comma separated numbers\").split(\",\")\n",
    "    \n",
    "    #iterates over the user_input list\n",
    "    #for each iteration, it converts the element into a integer and saves it to the variable D\n",
    "    #performs the arithmetic operation\n",
    "    #and prints the result obtained in each iteration\n",
    "    for i in user_input:\n",
    "        D=int(i)\n",
    "        Q=round(((2 * C * D)/H)**0.5)\n",
    "        print(Q,end=\", \")"
   ]
  },
  {
   "cell_type": "code",
   "execution_count": 70,
   "id": "043a4d98-287d-4572-bb02-c842085fdf1c",
   "metadata": {},
   "outputs": [
    {
     "name": "stdin",
     "output_type": "stream",
     "text": [
      "Please enter a sequence of comma separated words mt, krnya\n"
     ]
    },
    {
     "name": "stdout",
     "output_type": "stream",
     "text": [
      "['mt', ' krnya']\n"
     ]
    }
   ],
   "source": [
    "#Question 8\n",
    "#initialize a function\n",
    "def sortQ8():\n",
    "    \n",
    "    # Prompt the user to enter a sequence of comma separated words and converts the input into a list\n",
    "    user_input=input(\"Please enter a sequence of comma separated words\").split(\",\")\n",
    "    \n",
    "    # sorts the list in reverse order\n",
    "    user_input.sort(reverse=True)\n",
    "    \n",
    "    # prints the user i put sorted in reverse order\n",
    "    print(user_input)"
   ]
  },
  {
   "cell_type": "code",
   "execution_count": 14,
   "id": "3ff9dec7-f062-474d-bf03-0d59a830c04b",
   "metadata": {},
   "outputs": [
    {
     "name": "stdin",
     "output_type": "stream",
     "text": [
      "Please enter a sequence of lines. fga\n",
      "Please enter a sequence of lines. dfgdaf\n",
      "Please enter a sequence of lines. dfgdaf\n"
     ]
    },
    {
     "name": "stdout",
     "output_type": "stream",
     "text": [
      "FGA\n",
      "DFGDAF\n",
      "DFGDAF\n"
     ]
    }
   ],
   "source": [
    "#Question 9\n",
    "def upperQ9():\n",
    "    \n",
    "    # propts the user to enter a sequence of lines 3 times and saves the input in a variable user_input\n",
    "    # prints each statement stored in the variable\n",
    "    user_input=[input(\"Please enter a sequence of lines.\").upper() for i in range(1,4)]\n",
    "    for i in user_input:\n",
    "        print(i)"
   ]
  },
  {
   "cell_type": "code",
   "execution_count": 15,
   "id": "a2d9a8d3-f64c-4dda-984f-6918bb1835fe",
   "metadata": {},
   "outputs": [
    {
     "name": "stdin",
     "output_type": "stream",
     "text": [
      "Please a sequence of word separated by witespaces mike nelly kim\n"
     ]
    },
    {
     "name": "stdout",
     "output_type": "stream",
     "text": [
      "['kim', 'mike', 'nelly']\n"
     ]
    }
   ],
   "source": [
    "# Question 10\n",
    "def Q10():\n",
    "    \n",
    "    # prompts the user to enter a sequence of words separated by white spaces and converts the input into a list\n",
    "    # sorts the user_input list\n",
    "    #and prints out the list\n",
    "    user_input=list(set(input(\"Please a sequence of word separated by witespaces\").split(\" \")))\n",
    "    user_input.sort()\n",
    "    print(user_input)"
   ]
  },
  {
   "cell_type": "code",
   "execution_count": null,
   "id": "f31b5f81-2941-4737-b301-80737bb4c7ec",
   "metadata": {},
   "outputs": [],
   "source": []
  },
  {
   "cell_type": "code",
   "execution_count": 16,
   "id": "7af43f08-d812-4718-bfcb-ee8539cfa281",
   "metadata": {},
   "outputs": [
    {
     "name": "stdout",
     "output_type": "stream",
     "text": [
      "(1, 4, 9, 16, 25, 36, 49, 64, 81, 100, 121, 144, 169, 196, 225, 256, 289, 324, 361, 400)\n"
     ]
    }
   ],
   "source": [
    "#Question 41\n",
    "def tupQ41():\n",
    "    \n",
    "    # instantiate an empty list\n",
    "    # squares every number between 1 and 20 both included and appends them to the list\n",
    "    squared=list()\n",
    "    for i in range(1,21):\n",
    "        squared.append(i**2)\n",
    "    \n",
    "    # converts the list into a tuple\n",
    "    squared=tuple(squared)\n",
    "    print(squared)"
   ]
  },
  {
   "cell_type": "code",
   "execution_count": 26,
   "id": "8be61e16-2490-42c3-99b1-7fbcc83ab162",
   "metadata": {},
   "outputs": [
    {
     "name": "stdout",
     "output_type": "stream",
     "text": [
      "(1, 2, 3, 4, 5, 6)\n",
      "(7, 8, 9, 10, 11, 12)\n"
     ]
    }
   ],
   "source": [
    "#Question 42\n",
    "# imports the math module\n",
    "import math\n",
    "\n",
    "# creates a tupQ42 function that has a default argument tups\n",
    "def tupQ42(tups=(1,2,3,4,5,6,7,8,9,10)):\n",
    "    \n",
    "    # gets the length of the tuple and divides it by two\n",
    "    #rounds it off with the ceil() method from the math module and saves it to a variable midpoint\n",
    "    midpoint=math.ceil(len(tups)/2)\n",
    "    \n",
    "    #splices the tuple in half and two halves separated by a new line\n",
    "    print(tups[:midpoint],tups[midpoint:], sep=\"\\n\")\n",
    "    \n",
    "tupQ42((1,2,3,4,5,6,7,8,9,10,11,12))\n",
    "    "
   ]
  },
  {
   "cell_type": "code",
   "execution_count": null,
   "id": "71fa787f-201c-4e86-9e92-24a977193b35",
   "metadata": {},
   "outputs": [],
   "source": [
    "#43\n",
    "#creates a tupQ43 function\n",
    "def tupQ43():\n",
    "    \n",
    "    #initializes a tuple\n",
    "    #instantiate a list\n",
    "    tups=(1,2,3,4,5,6,7,8,9,10)\n",
    "    tuplist=[]\n",
    "    \n",
    "    #iterates over the tuple appending each iterated element to the tuplist if the element is an even number\n",
    "    for i in tups:\n",
    "        if i%2==0:\n",
    "            tuplist.append(i**2)\n",
    "            \n",
    "    #converts the tuplist list into a tuple using the tuple method and prints it\n",
    "    print(tuple(tuplist))"
   ]
  },
  {
   "cell_type": "code",
   "execution_count": 27,
   "id": "ca3fc733-8590-4f2c-8735-02e9e3c9c079",
   "metadata": {},
   "outputs": [
    {
     "name": "stdin",
     "output_type": "stream",
     "text": [
      "yes or YES or Yes yes\n"
     ]
    },
    {
     "name": "stdout",
     "output_type": "stream",
     "text": [
      "Yes\n"
     ]
    }
   ],
   "source": [
    "#44\n",
    "\n",
    "#creates a function Q44\n",
    "def Q44():\n",
    "    \n",
    "    # Prompts the user to enter either yes YES or Yes\n",
    "    user_input=input(\"yes or YES or Yes\")\n",
    "    \n",
    "    #checks whether the user has passed in the expected input\n",
    "    #prints Yes if the input is the Expected one otherwise it prints Np\n",
    "    if user_input=='yes' or user_input=='YES' or user_input=='Yes':\n",
    "        print(\"Yes\")\n",
    "    else:\n",
    "        print(\"No\")"
   ]
  },
  {
   "cell_type": "code",
   "execution_count": 40,
   "id": "5f367db4-d597-4a2d-b038-a8a6b227e7ca",
   "metadata": {},
   "outputs": [
    {
     "name": "stdout",
     "output_type": "stream",
     "text": [
      "[2, 4, 6, 8, 10]\n"
     ]
    }
   ],
   "source": [
    "#45\n",
    "def Q45():\n",
    "    \n",
    "    #initialize a numlst list\n",
    "    numlst=[1,2,3,4,5,6,7,8,9,10]\n",
    "    \n",
    "    #filter numlst using lambda function to select the even numbers\n",
    "    #initialize an evens list from the filter function using the list() function and print it\n",
    "    evens=list(filter(lambda i : i%2==0,numlst))\n",
    "    print(evens)"
   ]
  },
  {
   "cell_type": "code",
   "execution_count": 28,
   "id": "4ce3bcfb-e84c-4c5d-94df-43161c350e65",
   "metadata": {},
   "outputs": [
    {
     "name": "stdout",
     "output_type": "stream",
     "text": [
      "[1, 4, 9, 16, 25, 36, 49, 64, 81, 100]\n"
     ]
    }
   ],
   "source": [
    "#46\n",
    "def Q46():\n",
    "    \n",
    "    #initialize a munlst\n",
    "    numlst=[1,2,3,4,5,6,7,8,9,10]\n",
    "    \n",
    "    # iterating over each numlst using the map function\n",
    "    # ieach element of numlst is squared using the anonymous lambda function\n",
    "    # initialize a list squared from the map object using the list() function\n",
    "    squared=list(map(lambda i : i*i, numlst))\n",
    "    print(squared)"
   ]
  },
  {
   "cell_type": "code",
   "execution_count": 45,
   "id": "dc036567-b57f-437b-9778-35e6c8d6b17d",
   "metadata": {},
   "outputs": [
    {
     "name": "stdout",
     "output_type": "stream",
     "text": [
      "[4, 16, 36, 64, 100]\n"
     ]
    }
   ],
   "source": [
    "#47\n",
    "def Q47():\n",
    "    \n",
    "    # initialize a numlst list\n",
    "    numlst=[1,2,3,4,5,6,7,8,9,10]\n",
    "    \n",
    "    #filter numlst using the lambda function\n",
    "    # the result is then iterated over using the map function and each of its elements is squared using the lambda function\n",
    "    #initialize a squared_evens list from the map object using a list() function\n",
    "    squared_evens=list(map(lambda i : i*i, filter(lambda i : i%2==0,numlst)))\n",
    "    print(squared_evens)"
   ]
  },
  {
   "cell_type": "code",
   "execution_count": 48,
   "id": "46d7cdfb-e042-4a94-b3fb-2739de867c5d",
   "metadata": {},
   "outputs": [
    {
     "name": "stdout",
     "output_type": "stream",
     "text": [
      "[2, 4, 6, 8, 10, 12, 14, 16, 18, 20]\n"
     ]
    }
   ],
   "source": [
    "#48\n",
    "def Q48():\n",
    "    \n",
    "    #filters the numbers in the range of 1 and 20 both included using the lambda function to select the even numbers\n",
    "    #initialize a list called even from the filter object using the list() funtion\n",
    "    even=list(filter(lambda i: i%2==0, range(1,21)))\n",
    "    print(even)"
   ]
  },
  {
   "cell_type": "code",
   "execution_count": 49,
   "id": "f7584e51-cb7c-4f6e-b6fa-d98f5160dc58",
   "metadata": {},
   "outputs": [
    {
     "name": "stdout",
     "output_type": "stream",
     "text": [
      "[1, 4, 9, 16, 25, 36, 49, 64, 81, 100, 121, 144, 169, 196, 225, 256, 289, 324, 361, 400]\n"
     ]
    }
   ],
   "source": [
    "#49\n",
    "def Q49():\n",
    "    \n",
    "    #squares all the numbers between 1 and 20 both included using the lambda and map functions\n",
    "    #initialize a squares list using the list() function\n",
    "    squares=list(map(lambda i: i*i, range(1,21)))\n",
    "    print(squares)"
   ]
  },
  {
   "cell_type": "code",
   "execution_count": 69,
   "id": "09b527f7-a647-4dac-a2bd-8de7a032cd96",
   "metadata": {},
   "outputs": [
    {
     "name": "stdout",
     "output_type": "stream",
     "text": [
      "Kenyan\n"
     ]
    }
   ],
   "source": [
    "#50\n",
    "class  American():\n",
    "    def __init__(self):\n",
    "        self.nationality=\"American\"\n",
    "    #initialize a static method printNationality that expects an arg and prints it\n",
    "    @staticmethod\n",
    "    def printNationality(nationality):\n",
    "        print(nationality)\n",
    "Trump=American()\n",
    "American.printNationality(\"Kenyan\")"
   ]
  },
  {
   "cell_type": "code",
   "execution_count": 76,
   "id": "a198a5d3-6e27-4014-9c1e-33144aab8677",
   "metadata": {},
   "outputs": [
    {
     "data": {
      "text/plain": [
       "'New York City'"
      ]
     },
     "execution_count": 76,
     "metadata": {},
     "output_type": "execute_result"
    }
   ],
   "source": [
    "#51\n",
    "class  American():\n",
    "    def __init__(self):\n",
    "        self.nationality=\"American\"\n",
    "    \n",
    "    #initialize a static method printNationality that expects an arg and prints it\n",
    "    @staticmethod\n",
    "    def printNationality(nationality):\n",
    "        print(nationality)\n",
    "\n",
    "# creating a subclass of American called NewYorker\n",
    "class NewYorker(American):\n",
    "    def __init__(self,city):\n",
    "        self.city=city\n",
    "        \n",
    "    def hood(self):\n",
    "        return self.city\n",
    "        \n",
    "        \n",
    "Curtis_Jackson=NewYorker(\"New York City\")\n",
    "Curtis_Jackson.hood()"
   ]
  },
  {
   "cell_type": "code",
   "execution_count": 10,
   "id": "3079e103-a66b-4d37-b746-e588926551f9",
   "metadata": {},
   "outputs": [
    {
     "name": "stdout",
     "output_type": "stream",
     "text": [
      "My circle radius is 7cm while perimetr is 43.988cm and area is 201.088 square cm\n",
      "His circle radius is 8cm while perimeter is 50.272cm\n"
     ]
    }
   ],
   "source": [
    "#52\n",
    "class circle():\n",
    "    def __init__(self,r):\n",
    "        self.r=r\n",
    "        self.perimeter=3.142*r*2\n",
    "     \n",
    "    #initialize a class method radius\n",
    "    @classmethod\n",
    "    def radius(self,r):\n",
    "        self.area=3.142*r*r\n",
    "        return self(r)\n",
    "    \n",
    "    #def calc_area(self,r):\n",
    "        \n",
    "#initialize class objects using the class method       \n",
    "mycircle=circle.radius(7)\n",
    "Hiscircle=circle.radius(8)\n",
    "\n",
    "print(\"My circle radius is \", mycircle.r,\"cm while perimetr is \",mycircle.perimeter, \"cm and area is \",mycircle.area,\" square cm\", sep=\"\")\n",
    "print(\"His circle radius is \",Hiscircle.r,\"cm while perimeter is \",Hiscircle.perimeter,\"cm\", sep=\"\")\n"
   ]
  },
  {
   "cell_type": "code",
   "execution_count": 19,
   "id": "1ceef3f7-7870-4173-b7ca-a0411ccf62ba",
   "metadata": {},
   "outputs": [
    {
     "name": "stdout",
     "output_type": "stream",
     "text": [
      "42\n"
     ]
    }
   ],
   "source": [
    "#53\n",
    "class Rectangle():\n",
    "    def __init__(self,l,w):\n",
    "        self.perim=(l+w)*2\n",
    "        self.l=l\n",
    "        self.w=w\n",
    "        \n",
    "    #initialize a class method that claculates the area and instantiates a class object ones it's called\n",
    "    @classmethod   \n",
    "    def from_l_w(self,l,w):\n",
    "        self.area=l*w\n",
    "        return self(l,w)\n",
    "\n",
    "#instantiate a class object using the from_l_w class method\n",
    "fst=Rectangle.from_l_w(7,6)\n",
    "print(fst.area)"
   ]
  },
  {
   "cell_type": "code",
   "execution_count": 29,
   "id": "add03188-39d6-483b-b112-4166ff52cc38",
   "metadata": {},
   "outputs": [
    {
     "name": "stdout",
     "output_type": "stream",
     "text": [
      "25\n"
     ]
    }
   ],
   "source": [
    "#54\n",
    "class Shape():\n",
    "    def __init__(self):\n",
    "        self.area=0           \n",
    "    \n",
    "    #initialize a function areas that prints the ares\n",
    "    def areas(self):\n",
    "        print(self.area)\n",
    "        \n",
    "# creates a subclass of Shape called Square\n",
    "class Square(Shape):\n",
    "    def __init__(self,l):\n",
    "        self.l=l\n",
    "        self.w=l\n",
    "    \n",
    "    # initialize a method that calculates the area of the square and prints it\n",
    "    def areas(self):\n",
    "        print(self.l*self.w)\n",
    "        \n",
    "#instantiate a Square object with a length of 5\n",
    "myshape=Square(5)\n",
    "myshape.areas()        "
   ]
  },
  {
   "cell_type": "code",
   "execution_count": 30,
   "id": "51292bd5-fe4c-4902-91ab-c4c2b7a0ff80",
   "metadata": {},
   "outputs": [
    {
     "name": "stdout",
     "output_type": "stream",
     "text": [
      "5\n"
     ]
    }
   ],
   "source": [
    "#55\n",
    "def cstm_err(x):\n",
    "    \n",
    "    #raises an exception if the args passed are not numeric\n",
    "    #otherwise prints the args\n",
    "    if not str(x).isnumeric():\n",
    "        raise Exception(\"Only numbers are allowed\")\n",
    "    else:\n",
    "        print(x)\n",
    "        \n",
    "cstm_err(\"5\")"
   ]
  },
  {
   "cell_type": "code",
   "execution_count": null,
   "id": "f3194c5c-0a10-4635-bad7-ba665d009cf5",
   "metadata": {},
   "outputs": [],
   "source": [
    "#06.ipynb Exercise\n",
    "\n",
    "#function to calculate %GC content after verifying a sequence is a valid dna sequence\n",
    "def percentageGC():\n",
    "    \n",
    "    #prompt for the user to enter a DNA sequence\n",
    "    user_seq=input(\"Enter a DNA sequence to calculate its %GC content\").upper()\n",
    "    \n",
    "    # Function that verifies the given sequence is a DNA\n",
    "    def verifier(seq):\n",
    "        for i in seq:\n",
    "            if i ==\"A\" or i ==\"T\" or i ==\"G\" or i ==\"C\":\n",
    "                continue\n",
    "            else:\n",
    "                return False\n",
    "        return True\n",
    "    \n",
    "    #calculates %GC content on conditoin that the DNA sequence is valid\n",
    "    if verifier(user_seq):\n",
    "        return (user_seq.count(\"G\")+user_seq.count(\"C\"))/len(user_seq)*100\n",
    "    \n",
    "    else:\n",
    "        print(\"The Sequence you entered is not a DNA sequence\")\n",
    "percentageGC()"
   ]
  },
  {
   "cell_type": "code",
   "execution_count": null,
   "id": "586aa662-0286-4092-a13d-b0124ae80a0d",
   "metadata": {},
   "outputs": [],
   "source": [
    "Write a function the reads the file (humchr.txt) and writes to another file (gene_names.txt) a clean list of gene names."
   ]
  },
  {
   "cell_type": "code",
   "execution_count": 3,
   "id": "ac46f746-7260-4614-9263-a78206e82d09",
   "metadata": {},
   "outputs": [],
   "source": [
    "#07.ipynb Exercise 1\n",
    "import urllib.request\n",
    "\n",
    "url = \"https://www.uniprot.org/docs/humchrx.txt\"\n",
    "destination_filename = \"humchrx.txt\"\n",
    "urllib.request.urlretrieve(url, destination_filename)\n",
    "\n",
    "def read_write(filein,fileout):\n",
    "    gene_list=[]\n",
    "    with open(filein, \"r\") as filein:\n",
    "        flag=False\n",
    "        for line in filein:\n",
    "            if line.startswith(\"name\"):\n",
    "                flag=True\n",
    "                pass\n",
    "            if flag:\n",
    "                line=line.split()\n",
    "                \n",
    "                if len(line) > 0:\n",
    "                    gene_list.append(line[0])\n",
    "    \n",
    "    gene_list=gene_list[1:-7]\n",
    "    with open(fileout, 'w') as outputfile:\n",
    "        for i in gene_list:\n",
    "            outputfile.write(i+\"\\n\")\n",
    "                \n"
   ]
  },
  {
   "cell_type": "code",
   "execution_count": 2,
   "id": "d5b3c686-c975-43f1-a3f0-e76698ee17d3",
   "metadata": {},
   "outputs": [],
   "source": [
    "#07.ipynb Exercise 2 (a)\n",
    "import myscript\n",
    "\n",
    "myscript.read_write(\"huchrx.txt\",\"gen_names.txt\")\n"
   ]
  },
  {
   "cell_type": "code",
   "execution_count": 6,
   "id": "052036dc-5c71-4643-93b6-02e353509864",
   "metadata": {},
   "outputs": [],
   "source": []
  },
  {
   "cell_type": "code",
   "execution_count": 7,
   "id": "1c3d875b-0d2a-495e-8c2c-f9fd98d95425",
   "metadata": {},
   "outputs": [
    {
     "data": {
      "text/plain": [
       "'Jiko lol\\ntry again'"
      ]
     },
     "execution_count": 7,
     "metadata": {},
     "output_type": "execute_result"
    }
   ],
   "source": []
  },
  {
   "cell_type": "code",
   "execution_count": null,
   "id": "a26e5d23-7d78-41e9-a141-bd53e0195ef5",
   "metadata": {},
   "outputs": [],
   "source": []
  }
 ],
 "metadata": {
  "kernelspec": {
   "display_name": "Python 3 (ipykernel)",
   "language": "python",
   "name": "python3"
  },
  "language_info": {
   "codemirror_mode": {
    "name": "ipython",
    "version": 3
   },
   "file_extension": ".py",
   "mimetype": "text/x-python",
   "name": "python",
   "nbconvert_exporter": "python",
   "pygments_lexer": "ipython3",
   "version": "3.9.7"
  }
 },
 "nbformat": 4,
 "nbformat_minor": 5
}
