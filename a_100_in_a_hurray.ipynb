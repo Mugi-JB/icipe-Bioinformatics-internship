{
 "cells": [
  {
   "cell_type": "code",
   "execution_count": 63,
   "id": "94141b19-72b1-4b5d-807e-3d637f51ecfe",
   "metadata": {},
   "outputs": [
    {
     "name": "stdout",
     "output_type": "stream",
     "text": [
      "2016, 2051, 2086, 2121, 2156, 2191, 2226, 2261, 2296, 2331, 2366, 2401, 2436, 2471, 2506, 2541, 2576, 2611, 2646, 2681, 2716, 2751, 2786, 2821, 2856, 2891, 2926, 2961, 2996, 3031, 3066, 3101, 3136, 3171\n"
     ]
    }
   ],
   "source": [
    "#Question 1\n",
    "def multi_seven():\n",
    "    '''finds all numbers that are divisible by 7 but are not a multiple of 5, between 2000 and 3200 (both included) and prints them in a comma-separated sequence on a single line.'''\n",
    "    div_seven=[]\n",
    "    \n",
    "    # Finds all numbers between 2000 and 3200 both included\n",
    "    # Filters all multiples of seven that aren't multiples of 5\n",
    "    #converts the value from int to string and adds it to a list\n",
    "    for i in range(2000,3201):\n",
    "        if i%7==0 and i%5==1:\n",
    "            div_seven.append(str(i))\n",
    "            \n",
    "    #converts the list obtained from the loop into a string\n",
    "    #prints in a comma-separated sequence on a single line.\n",
    "    stringzy=\", \".join(div_seven)\n",
    "    print(stringzy) \n",
    "    \n",
    "    \n",
    "multi_seven()"
   ]
  },
  {
   "cell_type": "code",
   "execution_count": null,
   "id": "8bd0e5ba-37fe-46b3-964e-bb473671e597",
   "metadata": {},
   "outputs": [],
   "source": []
  },
  {
   "cell_type": "code",
   "execution_count": 62,
   "id": "97de33be-3439-4d15-8627-6b669a9cce37",
   "metadata": {},
   "outputs": [
    {
     "name": "stdin",
     "output_type": "stream",
     "text": [
      "Enter a number to find it's factorial:  4\n"
     ]
    },
    {
     "name": "stdout",
     "output_type": "stream",
     "text": [
      "24\n"
     ]
    }
   ],
   "source": [
    "#Question 2\n",
    "def fact():\n",
    "    \n",
    "    #prompts the user to enter a number and converts the input into an integer\n",
    "    user_input=int(input(\"Enter a number to find it's factorial: \"))\n",
    "    \n",
    "    #Initialize a function to calculate the factorial of the entered number\n",
    "    #returns 1 if the number is zero or once since their factorial is equal to one\n",
    "    #else calaulates the factorial of the number if the number is greater then one\n",
    "    def facto(num):\n",
    "        if num == 0 or num == 1:\n",
    "            return 1\n",
    "        else:\n",
    "            return num*facto(num-1)\n",
    "        \n",
    "    #stores the factorial in result variable\n",
    "    result = facto(user_input)\n",
    "    print(result)\n",
    "    \n",
    "\n",
    "fact()\n"
   ]
  },
  {
   "cell_type": "code",
   "execution_count": 61,
   "id": "ee569f6a-d767-48b6-935b-c151bf2467d2",
   "metadata": {},
   "outputs": [
    {
     "name": "stdin",
     "output_type": "stream",
     "text": [
      "Please enter a number 8\n"
     ]
    },
    {
     "name": "stdout",
     "output_type": "stream",
     "text": [
      "{1: 1, 2: 4, 3: 9, 4: 16, 5: 25, 6: 36, 7: 49, 8: 64}\n"
     ]
    }
   ],
   "source": [
    "# Question 3\n",
    "def integral_dict(): #Initialize the function\n",
    "    \n",
    "    #Prompt the user to enter a number and converts the input into an integer\n",
    "    user_input = int(input(\"Please enter a number\")) \n",
    "    \n",
    "    #Instantiate a dictionary\n",
    "    int_dict=dict() \n",
    "    \n",
    "    #iterate over the numbers between 1 and the given input, both included\n",
    "    #creates a dictionary with the number as the key and the square of the number as the value\n",
    "    for i in range(1, user_input+1):\n",
    "        int_dict[i]=i*i\n",
    "    \n",
    "    #prints the dictionary\n",
    "    print(int_dict) \n",
    "    \n",
    "integral_dict()\n",
    "        "
   ]
  },
  {
   "cell_type": "code",
   "execution_count": 64,
   "id": "57ba88c7-a5f4-4d22-94e6-5acb602e22c7",
   "metadata": {},
   "outputs": [
    {
     "name": "stdin",
     "output_type": "stream",
     "text": [
      "Enter a sequence of comma separated numbers 8,9,9\n"
     ]
    },
    {
     "name": "stdout",
     "output_type": "stream",
     "text": [
      "['8', '9', '9'] ('8', '9', '9')\n"
     ]
    }
   ],
   "source": [
    "# Question 4\n",
    "def list_tuple():\n",
    "    #Prompt the user to enter a sequence of comma separated numbers and converts the input into a ist\n",
    "    user_input=input(\"Enter a sequence of comma separated numbers\").split(\",\")\n",
    "    \n",
    "    #converts the list into a tuple\n",
    "    tups=tuple(user_input)\n",
    "    \n",
    "    #prints the user input both as a list and tuple\n",
    "    print(user_input,tups)\n",
    "\n",
    "list_tuple()"
   ]
  },
  {
   "cell_type": "code",
   "execution_count": 68,
   "id": "6f148fc5-1a72-472c-8b3d-0be6961b91d1",
   "metadata": {},
   "outputs": [
    {
     "name": "stdin",
     "output_type": "stream",
     "text": [
      "Enter a statement of your choice hyi\n"
     ]
    },
    {
     "name": "stdout",
     "output_type": "stream",
     "text": [
      "HYI\n"
     ]
    }
   ],
   "source": [
    "# Question 5\n",
    "#creates a class Q5\n",
    "class Q5:\n",
    "    def __init__(self):\n",
    "        self.user_input=\"A statement is needed\"\n",
    "        \n",
    "    #initializes a method getString that prompts the user to enter a statement of their choice\n",
    "    def getString(self):\n",
    "        self.user_input=input('Enter a statement of your choice')\n",
    "    \n",
    "    #initializes a method printString that converts the user_input into uppercase\n",
    "    def printString(self):\n",
    "        print(self.user_input.upper())\n",
    "        \n",
    "#Initializes a function in which a class object is instantiated\n",
    "#the two methods in the object created are called\n",
    "def funky():\n",
    "    gig=Q5()\n",
    "    gig.getString()\n",
    "    gig.printString()\n",
    "    \n",
    "funky()"
   ]
  },
  {
   "cell_type": "code",
   "execution_count": 69,
   "id": "bba30f19-bf75-46aa-90ff-76511d5bff01",
   "metadata": {},
   "outputs": [
    {
     "name": "stdin",
     "output_type": "stream",
     "text": [
      "Please enter a sequence of comma separated numbers 5,8,9\n"
     ]
    },
    {
     "name": "stdout",
     "output_type": "stream",
     "text": [
      "4, 5, 5, "
     ]
    }
   ],
   "source": [
    "#Question 6\n",
    "def Q6():\n",
    "    H=30\n",
    "    C=50\n",
    "    \n",
    "    #prompts the user to enter a sequence of comma separated numbers and converts the input into a list\n",
    "    user_input=input(\"Please enter a sequence of comma separated numbers\").split(\",\")\n",
    "    \n",
    "    #iterates over the user_input list\n",
    "    #for each iteration, it converts the element into a integer and saves it to the variable D\n",
    "    #performs the arithmetic operation\n",
    "    #and prints the result obtained in each iteration\n",
    "    for i in user_input:\n",
    "        D=int(i)\n",
    "        Q=round(((2 * C * D)/H)**0.5)\n",
    "        print(Q,end=\", \")\n",
    "Q6()"
   ]
  },
  {
   "cell_type": "code",
   "execution_count": 70,
   "id": "043a4d98-287d-4572-bb02-c842085fdf1c",
   "metadata": {},
   "outputs": [
    {
     "name": "stdin",
     "output_type": "stream",
     "text": [
      "Please enter a sequence of comma separated words mt, krnya\n"
     ]
    },
    {
     "name": "stdout",
     "output_type": "stream",
     "text": [
      "['mt', ' krnya']\n"
     ]
    }
   ],
   "source": [
    "#Question 8\n",
    "#initialize a function\n",
    "def sortQ8():\n",
    "    \n",
    "    # Prompt the user to enter a sequence of comma separated words and converts the input into a list\n",
    "    user_input=input(\"Please enter a sequence of comma separated words\").split(\",\")\n",
    "    \n",
    "    # sorts the list in reverse order\n",
    "    user_input.sort(reverse=True)\n",
    "    \n",
    "    # prints the user i put sorted in reverse order\n",
    "    print(user_input)\n",
    "    \n",
    "sortQ8()"
   ]
  },
  {
   "cell_type": "code",
   "execution_count": 14,
   "id": "3ff9dec7-f062-474d-bf03-0d59a830c04b",
   "metadata": {},
   "outputs": [
    {
     "name": "stdin",
     "output_type": "stream",
     "text": [
      "Please enter a sequence of lines. fga\n",
      "Please enter a sequence of lines. dfgdaf\n",
      "Please enter a sequence of lines. dfgdaf\n"
     ]
    },
    {
     "name": "stdout",
     "output_type": "stream",
     "text": [
      "FGA\n",
      "DFGDAF\n",
      "DFGDAF\n"
     ]
    }
   ],
   "source": [
    "#Question 9\n",
    "def upperQ9():\n",
    "    \n",
    "    # propts the user to enter a sequence of lines 3 times and saves the input in a variable user_input\n",
    "    # prints each statement stored in the variable\n",
    "    user_input=[input(\"Please enter a sequence of lines.\").upper() for i in range(1,4)]\n",
    "    for i in user_input:\n",
    "        print(i)\n",
    "upperQ9()"
   ]
  },
  {
   "cell_type": "code",
   "execution_count": 15,
   "id": "a2d9a8d3-f64c-4dda-984f-6918bb1835fe",
   "metadata": {},
   "outputs": [
    {
     "name": "stdin",
     "output_type": "stream",
     "text": [
      "Please a sequence of word separated by witespaces mike nelly kim\n"
     ]
    },
    {
     "name": "stdout",
     "output_type": "stream",
     "text": [
      "['kim', 'mike', 'nelly']\n"
     ]
    }
   ],
   "source": [
    "# Question 10\n",
    "def Q10():\n",
    "    \n",
    "    # prompts the user to enter a sequence of words separated by white spaces and converts the input into a list\n",
    "    # sorts the user_input list\n",
    "    #and prints out the list\n",
    "    user_input=list(set(input(\"Please a sequence of word separated by witespaces\").split(\" \")))\n",
    "    user_input.sort()\n",
    "    print(user_input)\n",
    "    \n",
    "Q10()"
   ]
  },
  {
   "cell_type": "code",
   "execution_count": null,
   "id": "f31b5f81-2941-4737-b301-80737bb4c7ec",
   "metadata": {},
   "outputs": [],
   "source": []
  },
  {
   "cell_type": "code",
   "execution_count": 16,
   "id": "7af43f08-d812-4718-bfcb-ee8539cfa281",
   "metadata": {},
   "outputs": [
    {
     "name": "stdout",
     "output_type": "stream",
     "text": [
      "(1, 4, 9, 16, 25, 36, 49, 64, 81, 100, 121, 144, 169, 196, 225, 256, 289, 324, 361, 400)\n"
     ]
    }
   ],
   "source": [
    "#Question 41\n",
    "def tupQ41():\n",
    "    \n",
    "    # instantiate an empty list\n",
    "    # squares every number between 1 and 20 both included and appends them to the list\n",
    "    squared=list()\n",
    "    for i in range(1,21):\n",
    "        squared.append(i**2)\n",
    "    \n",
    "    # converts the list into a tuple\n",
    "    squared=tuple(squared)\n",
    "    print(squared)\n",
    "    \n",
    "tupQ41()"
   ]
  },
  {
   "cell_type": "code",
   "execution_count": 32,
   "id": "8be61e16-2490-42c3-99b1-7fbcc83ab162",
   "metadata": {},
   "outputs": [
    {
     "name": "stdout",
     "output_type": "stream",
     "text": [
      "(1, 2, 3, 4, 5, 6)\n",
      "(7, 8, 9, 10, 11, 12)\n"
     ]
    }
   ],
   "source": [
    "#Question 42\n",
    "import math\n",
    "len(Q42)\n",
    "def tupQ42(tups=(1,2,3,4,5,6,7,8,9,10)):\n",
    "    midpoint=math.ceil(len(tups)/2)\n",
    "    print(tups[:midpoint],tups[midpoint:], sep=\"\\n\")\n",
    "    \n",
    "tupQ42((1,2,3,4,5,6,7,8,9,10,11,12))\n",
    "    "
   ]
  },
  {
   "cell_type": "code",
   "execution_count": null,
   "id": "71fa787f-201c-4e86-9e92-24a977193b35",
   "metadata": {},
   "outputs": [],
   "source": [
    "#43\n",
    "def tupQ43():\n",
    "    tups=(1,2,3,4,5,6,7,8,9,10)\n",
    "    tuplist=[]\n",
    "    for i in tups:\n",
    "        if i%2==0:\n",
    "            tuplist.append(i**2)\n",
    "    print(tuple(tuplist))\n",
    "tupQ43()"
   ]
  },
  {
   "cell_type": "code",
   "execution_count": 2,
   "id": "ca3fc733-8590-4f2c-8735-02e9e3c9c079",
   "metadata": {},
   "outputs": [
    {
     "name": "stdin",
     "output_type": "stream",
     "text": [
      "yes or YES or Yes lop\n"
     ]
    },
    {
     "name": "stdout",
     "output_type": "stream",
     "text": [
      "No\n"
     ]
    }
   ],
   "source": [
    "#44\n",
    "def Q44():\n",
    "    user_input=input(\"yes or YES or Yes\")\n",
    "    if user_input=='yes' or user_input=='YES' or user_input=='Yes':\n",
    "        print(\"Yes\")\n",
    "    else:\n",
    "        print(\"No\")\n",
    "\n",
    "Q44()"
   ]
  },
  {
   "cell_type": "code",
   "execution_count": 40,
   "id": "5f367db4-d597-4a2d-b038-a8a6b227e7ca",
   "metadata": {},
   "outputs": [
    {
     "name": "stdout",
     "output_type": "stream",
     "text": [
      "[2, 4, 6, 8, 10]\n"
     ]
    }
   ],
   "source": [
    "#45\n",
    "def Q45():\n",
    "    numlst=[1,2,3,4,5,6,7,8,9,10]\n",
    "\n",
    "    evens=list(filter(lambda i : i%2==0,numlst))\n",
    "    print(evens)\n",
    "Q45()"
   ]
  },
  {
   "cell_type": "code",
   "execution_count": 44,
   "id": "4ce3bcfb-e84c-4c5d-94df-43161c350e65",
   "metadata": {},
   "outputs": [
    {
     "name": "stdout",
     "output_type": "stream",
     "text": [
      "[1, 4, 9, 16, 25, 36, 49, 64, 81, 100]\n"
     ]
    }
   ],
   "source": [
    "#46\n",
    "def Q46():\n",
    "    numlst=[1,2,3,4,5,6,7,8,9,10]\n",
    "    squared=list(map(lambda i : i*i, numlst))\n",
    "    print(squared)\n",
    "    \n",
    "    \n",
    "Q46()"
   ]
  },
  {
   "cell_type": "code",
   "execution_count": 45,
   "id": "dc036567-b57f-437b-9778-35e6c8d6b17d",
   "metadata": {},
   "outputs": [
    {
     "name": "stdout",
     "output_type": "stream",
     "text": [
      "[4, 16, 36, 64, 100]\n"
     ]
    }
   ],
   "source": [
    "#47\n",
    "def Q47():\n",
    "    numlst=[1,2,3,4,5,6,7,8,9,10]\n",
    "    squared_evens=list(map(lambda i : i*i, filter(lambda i : i%2==0,numlst)))\n",
    "    print(squared_evens)\n",
    "    \n",
    "Q47()"
   ]
  },
  {
   "cell_type": "code",
   "execution_count": 48,
   "id": "46d7cdfb-e042-4a94-b3fb-2739de867c5d",
   "metadata": {},
   "outputs": [
    {
     "name": "stdout",
     "output_type": "stream",
     "text": [
      "[2, 4, 6, 8, 10, 12, 14, 16, 18, 20]\n"
     ]
    }
   ],
   "source": [
    "#48\n",
    "def Q48():\n",
    "    even=list(filter(lambda i: i%2==0, range(1,21)))\n",
    "    print(even)\n",
    "    \n",
    "Q48()"
   ]
  },
  {
   "cell_type": "code",
   "execution_count": 49,
   "id": "f7584e51-cb7c-4f6e-b6fa-d98f5160dc58",
   "metadata": {},
   "outputs": [
    {
     "name": "stdout",
     "output_type": "stream",
     "text": [
      "[1, 4, 9, 16, 25, 36, 49, 64, 81, 100, 121, 144, 169, 196, 225, 256, 289, 324, 361, 400]\n"
     ]
    }
   ],
   "source": [
    "#49\n",
    "def Q49():\n",
    "    squares=list(map(lambda i: i*i, range(1,21)))\n",
    "    print(squares)\n",
    "    \n",
    "Q49()"
   ]
  },
  {
   "cell_type": "code",
   "execution_count": 69,
   "id": "09b527f7-a647-4dac-a2bd-8de7a032cd96",
   "metadata": {},
   "outputs": [
    {
     "name": "stdout",
     "output_type": "stream",
     "text": [
      "Kenyan\n"
     ]
    }
   ],
   "source": [
    "#50\n",
    "class  American():\n",
    "    def __init__(self):\n",
    "        self.nationality=\"American\"\n",
    "    \n",
    "    @staticmethod\n",
    "    def printNationality(nationality):\n",
    "        print(nationality)\n",
    "Trump=American()\n",
    "American.printNationality(\"Kenyan\")"
   ]
  },
  {
   "cell_type": "code",
   "execution_count": 76,
   "id": "a198a5d3-6e27-4014-9c1e-33144aab8677",
   "metadata": {},
   "outputs": [
    {
     "data": {
      "text/plain": [
       "'New York City'"
      ]
     },
     "execution_count": 76,
     "metadata": {},
     "output_type": "execute_result"
    }
   ],
   "source": [
    "#51\n",
    "class  American():\n",
    "    def __init__(self):\n",
    "        self.nationality=\"American\"\n",
    "    \n",
    "    @staticmethod\n",
    "    def printNationality(nationality):\n",
    "        print(nationality)\n",
    "        \n",
    "class NewYorker(American):\n",
    "    def __init__(self,city):\n",
    "        self.city=city\n",
    "        \n",
    "    def hood(self):\n",
    "        return self.city\n",
    "        \n",
    "        \n",
    "Curtis_Jackson=NewYorker(\"New York City\")\n",
    "Curtis_Jackson.hood()"
   ]
  },
  {
   "cell_type": "code",
   "execution_count": 10,
   "id": "3079e103-a66b-4d37-b746-e588926551f9",
   "metadata": {},
   "outputs": [
    {
     "name": "stdout",
     "output_type": "stream",
     "text": [
      "My circle radius is 7cm while perimetr is 43.988cm and area is 201.088 square cm\n",
      "His circle radius is 8cm while perimeter is 50.272cm\n"
     ]
    }
   ],
   "source": [
    "#52\n",
    "class circle():\n",
    "    def __init__(self,r):\n",
    "        self.r=r\n",
    "        self.perimeter=3.142*r*2\n",
    "        \n",
    "    @classmethod\n",
    "    def radius(self,r):\n",
    "        self.area=3.142*r*r\n",
    "        return self(r)\n",
    "    \n",
    "    #def calc_area(self,r):\n",
    "        \n",
    "        \n",
    "mycircle=circle.radius(7)\n",
    "Hiscircle=circle.radius(8)\n",
    "\n",
    "print(\"My circle radius is \", mycircle.r,\"cm while perimetr is \",mycircle.perimeter, \"cm and area is \",mycircle.area,\" square cm\", sep=\"\")\n",
    "print(\"His circle radius is \",Hiscircle.r,\"cm while perimeter is \",Hiscircle.perimeter,\"cm\", sep=\"\")\n"
   ]
  },
  {
   "cell_type": "code",
   "execution_count": 19,
   "id": "1ceef3f7-7870-4173-b7ca-a0411ccf62ba",
   "metadata": {},
   "outputs": [
    {
     "name": "stdout",
     "output_type": "stream",
     "text": [
      "42\n"
     ]
    }
   ],
   "source": [
    "#53\n",
    "class Rectangle():\n",
    "    def __init__(self,l,w):\n",
    "        self.perim=(l+w)*2\n",
    "        self.l=l\n",
    "        self.w=w\n",
    "    @classmethod   \n",
    "    def from_l_w(self,l,w):\n",
    "        self.area=l*w\n",
    "        return self(l,w)\n",
    "    \n",
    "fst=Rectangle.from_l_w(7,6)\n",
    "print(fst.area)"
   ]
  },
  {
   "cell_type": "code",
   "execution_count": 29,
   "id": "add03188-39d6-483b-b112-4166ff52cc38",
   "metadata": {},
   "outputs": [],
   "source": [
    "#54\n",
    "class Shape():\n",
    "    def __init__(self):\n",
    "        self.area=0           \n",
    "    \n",
    "    def areas(self):\n",
    "        print(self.area)\n",
    "class Square(Shape):\n",
    "    def __init__(self,l):\n",
    "        self.l=l\n",
    "        self.w=l\n",
    "    \n",
    "    def areas(self):\n",
    "        print(self.l*self.w)\n",
    "myshape=Square(5)\n",
    "myshape.areas()        "
   ]
  },
  {
   "cell_type": "code",
   "execution_count": 57,
   "id": "51292bd5-fe4c-4902-91ab-c4c2b7a0ff80",
   "metadata": {},
   "outputs": [],
   "source": [
    "#55\n",
    "def cstm_err(x):\n",
    "    if not str(x).isnumeric():\n",
    "        raise Exception(\"Only numbers are allowed\")\n",
    "    else:\n",
    "        print(x)"
   ]
  },
  {
   "cell_type": "code",
   "execution_count": 59,
   "id": "059abc8e-faf0-4d3b-8ecc-2f0ccf2b0c66",
   "metadata": {},
   "outputs": [
    {
     "name": "stdout",
     "output_type": "stream",
     "text": [
      "5\n"
     ]
    }
   ],
   "source": [
    "cstm_err(\"5\")"
   ]
  },
  {
   "cell_type": "code",
   "execution_count": 42,
   "id": "8914982d-d09a-4bc1-8f24-d179915aeae9",
   "metadata": {},
   "outputs": [
    {
     "data": {
      "text/plain": [
       "\u001b[0;31mInit signature:\u001b[0m \u001b[0mstr\u001b[0m\u001b[0;34m(\u001b[0m\u001b[0mself\u001b[0m\u001b[0;34m,\u001b[0m \u001b[0;34m/\u001b[0m\u001b[0;34m,\u001b[0m \u001b[0;34m*\u001b[0m\u001b[0margs\u001b[0m\u001b[0;34m,\u001b[0m \u001b[0;34m**\u001b[0m\u001b[0mkwargs\u001b[0m\u001b[0;34m)\u001b[0m\u001b[0;34m\u001b[0m\u001b[0;34m\u001b[0m\u001b[0m\n",
       "\u001b[0;31mDocstring:\u001b[0m     \n",
       "str(object='') -> str\n",
       "str(bytes_or_buffer[, encoding[, errors]]) -> str\n",
       "\n",
       "Create a new string object from the given object. If encoding or\n",
       "errors is specified, then the object must expose a data buffer\n",
       "that will be decoded using the given encoding and error handler.\n",
       "Otherwise, returns the result of object.__str__() (if defined)\n",
       "or repr(object).\n",
       "encoding defaults to sys.getdefaultencoding().\n",
       "errors defaults to 'strict'.\n",
       "\u001b[0;31mType:\u001b[0m           type\n",
       "\u001b[0;31mSubclasses:\u001b[0m     DeferredConfigString, _rstr, LSString, include, ColorDepth, Keys, InputMode, CompleteStyle, SortKey\n"
      ]
     },
     "metadata": {},
     "output_type": "display_data"
    }
   ],
   "source": [
    "?str"
   ]
  },
  {
   "cell_type": "code",
   "execution_count": null,
   "id": "fe40bc23-b722-4f98-8571-baad3ddec5ab",
   "metadata": {},
   "outputs": [],
   "source": []
  },
  {
   "cell_type": "code",
   "execution_count": null,
   "id": "411278ff-6a28-4319-bce0-ac03f6d3e292",
   "metadata": {},
   "outputs": [],
   "source": []
  },
  {
   "cell_type": "code",
   "execution_count": null,
   "id": "1cac6d70-6863-4555-b9be-e9c338e89acb",
   "metadata": {},
   "outputs": [],
   "source": []
  },
  {
   "cell_type": "code",
   "execution_count": null,
   "id": "f85ad5bb-bf54-4889-a757-4add05dbf6ca",
   "metadata": {},
   "outputs": [],
   "source": []
  },
  {
   "cell_type": "code",
   "execution_count": null,
   "id": "5ad21de6-29b1-48bb-85b9-c87911eaba08",
   "metadata": {},
   "outputs": [],
   "source": []
  },
  {
   "cell_type": "code",
   "execution_count": 82,
   "id": "7f7ffcc4-ba56-4153-bdf9-c311923db567",
   "metadata": {},
   "outputs": [
    {
     "name": "stdout",
     "output_type": "stream",
     "text": [
      "('John', 172)\n"
     ]
    }
   ],
   "source": [
    "class gp_strings(): # creates a class 'gp_strings'\n",
    "    def _init_(self, name, height, number):\n",
    "        self.name=name\n",
    "        self.height=height\n",
    "        self.number=number\n",
    "        #self.str3\n",
    "    \n",
    "    def getStrings(self,name, height,telephone):\n",
    "        self.name=name\n",
    "        self.height=height\n",
    "        self.number=telephone\n",
    "        self.str3=self.name,self.height\n",
    "    \n",
    "    def print_string(self): # defining a another method 'print_string'\n",
    "        print(self.str3)\n",
    "        \n",
    "        \n",
    "# instantiating an object called ex...it's an object of the class gp_strings     \n",
    "ex=gp_strings()\n",
    "\n",
    "# calling the getStrings method of the ex object\n",
    "ex.getStrings(\"John\", 172, 705690)\n",
    "\n",
    "# calling the print_string method of the ex object\n",
    "ex.print_string()"
   ]
  },
  {
   "cell_type": "code",
   "execution_count": 25,
   "id": "c35007e8-7b21-44ca-a247-939cb8dc082f",
   "metadata": {},
   "outputs": [
    {
     "name": "stdout",
     "output_type": "stream",
     "text": [
      "<class '__main__.gp_strings'>\n"
     ]
    }
   ],
   "source": [
    "print(type(ex))"
   ]
  },
  {
   "cell_type": "code",
   "execution_count": 24,
   "id": "b9530541-a160-466d-b498-0f206a94af08",
   "metadata": {},
   "outputs": [
    {
     "name": "stdout",
     "output_type": "stream",
     "text": [
      "('John', 172)\n"
     ]
    }
   ],
   "source": [
    "ex.getStrings(\"John\", 172, 705690)\n",
    "ex.print_string()"
   ]
  },
  {
   "cell_type": "code",
   "execution_count": null,
   "id": "79827ea8-111e-4495-bdc0-f452b5573592",
   "metadata": {},
   "outputs": [],
   "source": []
  },
  {
   "cell_type": "code",
   "execution_count": 111,
   "id": "85e7bfb8-7ada-4531-af83-94f671735a8a",
   "metadata": {},
   "outputs": [
    {
     "name": "stdout",
     "output_type": "stream",
     "text": [
      "{'Name': 'Joy', 'Age': 24, 'Height': '168 cm', 'Nationality': 'Kenyan'}\n"
     ]
    }
   ],
   "source": [
    "class People:\n",
    "    def __init__(self,n,p,q,m):\n",
    "        self.name=n\n",
    "        self.age=p\n",
    "        self.height=q\n",
    "        self.nationality=m\n",
    "        self.details={}\n",
    "        #Data=People('Joe',22,70).Person() # creating an object 'Data'\n",
    "    def Persons_details(self):\n",
    "        self.details={ 'Name':self.name,\n",
    "                 \"Age\":self.age,\n",
    "                 'Height': self.height,\n",
    "                 'Nationality':self.nationality\n",
    "                }\n",
    "\n",
    "    \n",
    "\n",
    "    \n",
    "Joy= People(\"Joy\", 24, \"168 cm\", \"Kenyan\")\n",
    "Joy.Persons_details()\n",
    "print(Joy.details)\n"
   ]
  },
  {
   "cell_type": "code",
   "execution_count": null,
   "id": "bf4350be-6d39-46f5-8e2f-504fb8f7fc40",
   "metadata": {},
   "outputs": [],
   "source": []
  },
  {
   "cell_type": "code",
   "execution_count": 103,
   "id": "4801657b-8daf-4bc5-9880-ea4294ddfbfb",
   "metadata": {},
   "outputs": [
    {
     "name": "stdout",
     "output_type": "stream",
     "text": [
      "{'Name': 'Joy', 'Age': 24, 'Height': '168 cm', 'Nationality': 'Kenyan'}\n"
     ]
    }
   ],
   "source": [
    "Joy.prints()"
   ]
  },
  {
   "cell_type": "code",
   "execution_count": 98,
   "id": "37b57f9b-4b44-414d-a45b-4df9b0874423",
   "metadata": {},
   "outputs": [
    {
     "name": "stdout",
     "output_type": "stream",
     "text": [
      "{'Name': 'Joy', 'Age': 24, 'Height': '168 cm', 'Nationality': 'Kenyan'}\n"
     ]
    }
   ],
   "source": [
    "Joy.prints()"
   ]
  },
  {
   "cell_type": "code",
   "execution_count": null,
   "id": "da41706d-0b02-4352-a36c-3e8391987872",
   "metadata": {},
   "outputs": [],
   "source": []
  },
  {
   "cell_type": "code",
   "execution_count": 56,
   "id": "bc647a79-fc8f-4e40-9f32-586ef23c9ea3",
   "metadata": {},
   "outputs": [],
   "source": [
    "class human():\n",
    "    def __init__Jonationality=nationality\n",
    "        self.tribe=tribe\n",
    "        #self.Color=Color\n",
    "        #self.engine=engine"
   ]
  },
  {
   "cell_type": "code",
   "execution_count": 57,
   "id": "c6b61ffc-ff49-4151-b37c-0f9018b0a9b2",
   "metadata": {},
   "outputs": [],
   "source": [
    "Allan=human(\"Male\",\"Kenyan\", \"Luo\")"
   ]
  },
  {
   "cell_type": "code",
   "execution_count": 58,
   "id": "17783d68-b079-4abf-94f3-1c20cd2f7f7f",
   "metadata": {},
   "outputs": [
    {
     "data": {
      "text/plain": [
       "'Luo'"
      ]
     },
     "execution_count": 58,
     "metadata": {},
     "output_type": "execute_result"
    }
   ],
   "source": [
    "Allan.tribe"
   ]
  },
  {
   "cell_type": "code",
   "execution_count": 67,
   "id": "be9a3451-5495-406c-a7a0-8c91d0609b2c",
   "metadata": {},
   "outputs": [],
   "source": [
    "class Hilux():\n",
    "    def __init__(self):\n",
    "        self.color=\"Black\"\n",
    "        self.engine=\"2500 cc\"\n",
    "        self.cabins=\"Double-Cabin\"\n",
    "        \n",
    "    def customize_color(self,color):\n",
    "        self.color=color"
   ]
  },
  {
   "cell_type": "code",
   "execution_count": 68,
   "id": "e711ef27-cc7d-46d9-9719-148828ccf0c7",
   "metadata": {},
   "outputs": [],
   "source": [
    "Alans=Hilux()"
   ]
  },
  {
   "cell_type": "code",
   "execution_count": 69,
   "id": "dbd0413f-5167-48fb-8993-419c31af984b",
   "metadata": {},
   "outputs": [],
   "source": [
    "Alans.customize_color(\"Blue\")"
   ]
  },
  {
   "cell_type": "code",
   "execution_count": 71,
   "id": "0a913ff3-47ae-4c6f-881a-cb9e9edc3955",
   "metadata": {},
   "outputs": [
    {
     "data": {
      "text/plain": [
       "'2500 cc'"
      ]
     },
     "execution_count": 71,
     "metadata": {},
     "output_type": "execute_result"
    }
   ],
   "source": [
    "Alans.engine"
   ]
  },
  {
   "cell_type": "code",
   "execution_count": null,
   "id": "f3abc585-3016-4600-baa9-0ed8b129b6b1",
   "metadata": {},
   "outputs": [],
   "source": []
  },
  {
   "cell_type": "code",
   "execution_count": 23,
   "id": "f338da01-1e7b-4afc-b45a-23af9b9299a4",
   "metadata": {},
   "outputs": [],
   "source": [
    "class Human_being():\n",
    "    def __init__(self):\n",
    "        self.name=input(\"Enter Name\")\n",
    "    \n",
    "    class Kingdom():\n",
    "        def __init__(self):\n",
    "            self.kingdom=input(\"Enter Kingdom\")\n",
    "\n",
    "        class Division():\n",
    "            def __init__(self):\n",
    "                self.division=input(\"Enter Division\")\n",
    "\n",
    "            class Phylum():\n",
    "                def __init__(self):\n",
    "                    self.phylum=input(\"Enter Phylum\")\n",
    "\n",
    "                class Class():\n",
    "                    def __init__(self):\n",
    "                        self.Class=input(\"Enter Class\")\n",
    "\n",
    "                    class Family():\n",
    "                        def __init__(self):\n",
    "                            self.family=input(\"Enter Family\")\n",
    "\n",
    "                        class Order():\n",
    "                            def __init__(self):\n",
    "                                self.order=input(\"Enter Order\")"
   ]
  },
  {
   "cell_type": "code",
   "execution_count": 24,
   "id": "d70f93d1-04c3-4a1f-84c1-bffbe8231d35",
   "metadata": {},
   "outputs": [
    {
     "name": "stdin",
     "output_type": "stream",
     "text": [
      "Enter Name Allan\n"
     ]
    }
   ],
   "source": [
    "Allan = Human_being()"
   ]
  },
  {
   "cell_type": "code",
   "execution_count": 26,
   "id": "83ab3006-ab60-4091-975d-3dc3c5c0f6dc",
   "metadata": {},
   "outputs": [
    {
     "name": "stdin",
     "output_type": "stream",
     "text": [
      "Enter Kingdom Mammalia\n"
     ]
    },
    {
     "data": {
      "text/plain": [
       "<__main__.Human_being.Kingdom at 0x7eff563846d0>"
      ]
     },
     "execution_count": 26,
     "metadata": {},
     "output_type": "execute_result"
    }
   ],
   "source": [
    "Allan.Kingdom()"
   ]
  }
 ],
 "metadata": {
  "kernelspec": {
   "display_name": "Python 3 (ipykernel)",
   "language": "python",
   "name": "python3"
  },
  "language_info": {
   "codemirror_mode": {
    "name": "ipython",
    "version": 3
   },
   "file_extension": ".py",
   "mimetype": "text/x-python",
   "name": "python",
   "nbconvert_exporter": "python",
   "pygments_lexer": "ipython3",
   "version": "3.9.7"
  }
 },
 "nbformat": 4,
 "nbformat_minor": 5
}
